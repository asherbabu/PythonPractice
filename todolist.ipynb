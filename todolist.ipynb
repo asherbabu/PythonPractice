{
 "cells": [
  {
   "cell_type": "code",
   "execution_count": 5,
   "metadata": {},
   "outputs": [
    {
     "name": "stdout",
     "output_type": "stream",
     "text": [
      "MENU\n",
      "1. Add new task \n",
      "2. View tasks \n",
      "3. Edit/Delete task \n",
      "4. Mark a task done \n",
      "5. Exit \n",
      "\n",
      "MENU\n",
      "1. Add new task \n",
      "2. View tasks \n",
      "3. Edit/Delete task \n",
      "4. Mark a task done \n",
      "5. Exit \n",
      "\n"
     ]
    },
    {
     "data": {
      "text/html": [
       "<style type=\"text/css\">\n",
       "</style>\n",
       "<table id=\"T_1c8e7\">\n",
       "  <thead>\n",
       "    <tr>\n",
       "      <th id=\"T_1c8e7_level0_col0\" class=\"col_heading level0 col0\" >No</th>\n",
       "      <th id=\"T_1c8e7_level0_col1\" class=\"col_heading level0 col1\" >Task</th>\n",
       "      <th id=\"T_1c8e7_level0_col2\" class=\"col_heading level0 col2\" >Status</th>\n",
       "      <th id=\"T_1c8e7_level0_col3\" class=\"col_heading level0 col3\" >Created At</th>\n",
       "      <th id=\"T_1c8e7_level0_col4\" class=\"col_heading level0 col4\" >Completed At</th>\n",
       "    </tr>\n",
       "  </thead>\n",
       "  <tbody>\n",
       "  </tbody>\n",
       "</table>\n"
      ],
      "text/plain": [
       "<pandas.io.formats.style.Styler at 0x17f2e8df9b0>"
      ]
     },
     "execution_count": 5,
     "metadata": {},
     "output_type": "execute_result"
    }
   ],
   "source": [
    "import pandas as pd\n",
    "import datetime\n",
    "\n",
    "index = []\n",
    "task = []\n",
    "status = []\n",
    "createdAt = []\n",
    "completedAt = []\n",
    "\n",
    "for i in range(1, len(task)+1):\n",
    "    print(str(i))\n",
    "\n",
    "a = {\"No\": index, \"Task\": task, \"Status\": status, \"Created At\": createdAt, \"Completed At\": completedAt}\n",
    "\n",
    "df = pd.DataFrame(a)\n",
    "dataframe = df.style.hide(axis=\"index\")\n",
    "\n",
    "def addTask():\n",
    "    addTaskInput = input(\"Enter the task you wish to add to your todo list: \")\n",
    "    task.append(addTaskInput)\n",
    "    createdAt.append(str(datetime.datetime.now()))\n",
    "    status.append(\"Pending\")\n",
    "    return \"Task added successfully!\\n\", dataframe\n",
    "\n",
    "def editTask():\n",
    "    edit = input(\"Enter the No. of the task you wish to edit: \")\n",
    "    newTask = input(\"Enter new task: \")\n",
    "    df.loc[(df.No == edit), ['Task']] = newTask \n",
    "    return\n",
    "\n",
    "def deleteTask():\n",
    "    delete = input(\"Enter the task No. you wish to mark as done: \")\n",
    "    df.drop([[delete]], axis=0)\n",
    "    return\n",
    "\n",
    "def markAsDone():\n",
    "    done = input(\"Enter the task No. you wish to mark as done: \")\n",
    "    df.loc[(df.No == done), ['Status']] = \"Done\"\n",
    "    return\n",
    "\n",
    "def menu():\n",
    "    while True:\n",
    "        print(\"MENU\\n1. Add new task \\n2. View tasks \\n3. Edit/Delete task \\n4. Mark a task done \\n5. Exit \\n\")\n",
    "        choice = int(input(\"Select the operation you wish to perform (1 or 2 or 3 or 4 or 5): \"))\n",
    "\n",
    "        match choice:\n",
    "            case 1:\n",
    "                #addTask()\n",
    "                addTask()\n",
    "\n",
    "            case 2:\n",
    "                return dataframe\n",
    "            \n",
    "            case 3:\n",
    "                print(\"1. Edit task \\n2. Delete task \\n3. Back to menu\")\n",
    "                editDeleteChoice = int(input(\"Select the operation you wish to perform (1 or 2 or 3): \"))\n",
    "                match editDeleteChoice:\n",
    "                    case 1:\n",
    "                        editTask()\n",
    "                        return menu()\n",
    "                        # edit = int(input(\"Enter the SNo. of the task you wish to edit: \"))\n",
    "                        #logic\n",
    "                    case 2:\n",
    "                        deleteTask()\n",
    "                        return menu()\n",
    "                        # delete = int(input(\"Enter the SNo. of the task you wish to delete: \"))\n",
    "                        #logc\n",
    "                    case 3:\n",
    "                        menu()\n",
    "\n",
    "            case 4:\n",
    "                markAsDone()\n",
    "                return menu()\n",
    "                # done = int(input(\"Enter the S No. of the task you wish to mark as done: \"))\n",
    "                #logic\n",
    "\n",
    "            case 5:\n",
    "                break\n",
    "\n",
    "            case _:\n",
    "                print(\"Invalid operation selected, please select an operation between (1 or 2 or 3 or 4 or 5).\")\n",
    "\n",
    "menu()"
   ]
  },
  {
   "cell_type": "code",
   "execution_count": 3,
   "metadata": {},
   "outputs": [],
   "source": [
    "import pandas as pd\n",
    "import datetime"
   ]
  },
  {
   "cell_type": "code",
   "execution_count": 3,
   "metadata": {},
   "outputs": [
    {
     "ename": "AttributeError",
     "evalue": "'Styler' object has no attribute 'hide_index'",
     "output_type": "error",
     "traceback": [
      "\u001b[1;31m---------------------------------------------------------------------------\u001b[0m",
      "\u001b[1;31mAttributeError\u001b[0m                            Traceback (most recent call last)",
      "Cell \u001b[1;32mIn[3], line 13\u001b[0m\n\u001b[0;32m     10\u001b[0m a \u001b[38;5;241m=\u001b[39m {\u001b[38;5;124m\"\u001b[39m\u001b[38;5;124mNo\u001b[39m\u001b[38;5;124m\"\u001b[39m: index, \u001b[38;5;124m\"\u001b[39m\u001b[38;5;124mTask\u001b[39m\u001b[38;5;124m\"\u001b[39m: task, \u001b[38;5;124m\"\u001b[39m\u001b[38;5;124mStatus\u001b[39m\u001b[38;5;124m\"\u001b[39m: status, \u001b[38;5;124m\"\u001b[39m\u001b[38;5;124mCreated At\u001b[39m\u001b[38;5;124m\"\u001b[39m: createdAt, \u001b[38;5;124m\"\u001b[39m\u001b[38;5;124mCompleted At\u001b[39m\u001b[38;5;124m\"\u001b[39m: completedAt}\n\u001b[0;32m     12\u001b[0m df \u001b[38;5;241m=\u001b[39m pd\u001b[38;5;241m.\u001b[39mDataFrame(a)\n\u001b[1;32m---> 13\u001b[0m dataframe \u001b[38;5;241m=\u001b[39m \u001b[43mdf\u001b[49m\u001b[38;5;241;43m.\u001b[39;49m\u001b[43mstyle\u001b[49m\u001b[38;5;241;43m.\u001b[39;49m\u001b[43mhide_index\u001b[49m()\n",
      "\u001b[1;31mAttributeError\u001b[0m: 'Styler' object has no attribute 'hide_index'"
     ]
    }
   ],
   "source": [
    "index = []\n",
    "task = []\n",
    "status = []\n",
    "createdAt = []\n",
    "completedAt = []\n",
    "\n",
    "for i in range(1, len(task)+1):\n",
    "    print(str(i))\n",
    "\n",
    "a = {\"No\": index, \"Task\": task, \"Status\": status, \"Created At\": createdAt, \"Completed At\": completedAt}\n",
    "\n",
    "df = pd.DataFrame(a)\n",
    "dataframe = df.style.hide_index()"
   ]
  },
  {
   "cell_type": "code",
   "execution_count": 10,
   "metadata": {},
   "outputs": [],
   "source": [
    "def addTask():\n",
    "    addTaskInput = input(\"Enter the task you wish to add to your todo list: \")\n",
    "    task.append(addTaskInput)\n",
    "    createdAt.append(str(datetime.datetime.now()))\n",
    "    status.append(\"Pending\")\n",
    "    return \"Task added successfully!\\n\", dataframe\n",
    "\n",
    "def editTask():\n",
    "    edit = input(\"Enter the No. of the task you wish to edit: \")\n",
    "    newTask = input(\"Enter new task: \")\n",
    "    df.loc[(df.No == edit), ['Task']] = newTask \n",
    "    return\n",
    "\n",
    "def deleteTask():\n",
    "    delete = input(\"Enter the task No. you wish to mark as done: \")\n",
    "    df.drop([[delete]], axis=0)\n",
    "    return\n",
    "\n",
    "def markAsDone():\n",
    "    done = input(\"Enter the task No. you wish to mark as done: \")\n",
    "    df.loc[(df.No == done), ['Status']] = \"Done\"\n",
    "    return"
   ]
  },
  {
   "cell_type": "code",
   "execution_count": 1,
   "metadata": {},
   "outputs": [
    {
     "name": "stdout",
     "output_type": "stream",
     "text": [
      "MENU\n",
      "1. Add new task \n",
      "2. View tasks \n",
      "3. Edit/Delete task \n",
      "4. Mark a task done \n",
      "5. Exit \n",
      "\n"
     ]
    },
    {
     "ename": "NameError",
     "evalue": "name 'dataframe' is not defined",
     "output_type": "error",
     "traceback": [
      "\u001b[1;31m---------------------------------------------------------------------------\u001b[0m",
      "\u001b[1;31mNameError\u001b[0m                                 Traceback (most recent call last)",
      "Cell \u001b[1;32mIn[1], line 43\u001b[0m\n\u001b[0;32m     40\u001b[0m             \u001b[38;5;28;01mcase\u001b[39;00m\u001b[38;5;250m \u001b[39m\u001b[38;5;28;01m_\u001b[39;00m:\n\u001b[0;32m     41\u001b[0m                 \u001b[38;5;28mprint\u001b[39m(\u001b[38;5;124m\"\u001b[39m\u001b[38;5;124mInvalid operation selected, please select an operation between (1 or 2 or 3 or 4 or 5).\u001b[39m\u001b[38;5;124m\"\u001b[39m)\n\u001b[1;32m---> 43\u001b[0m \u001b[43mmenu\u001b[49m\u001b[43m(\u001b[49m\u001b[43m)\u001b[49m\n",
      "Cell \u001b[1;32mIn[1], line 12\u001b[0m, in \u001b[0;36mmenu\u001b[1;34m()\u001b[0m\n\u001b[0;32m      9\u001b[0m     addTask()\n\u001b[0;32m     11\u001b[0m \u001b[38;5;28;01mcase\u001b[39;00m \u001b[38;5;241m2\u001b[39m:\n\u001b[1;32m---> 12\u001b[0m     \u001b[38;5;28;01mreturn\u001b[39;00m \u001b[43mdataframe\u001b[49m\n\u001b[0;32m     14\u001b[0m \u001b[38;5;28;01mcase\u001b[39;00m \u001b[38;5;241m3\u001b[39m:\n\u001b[0;32m     15\u001b[0m     \u001b[38;5;28mprint\u001b[39m(\u001b[38;5;124m\"\u001b[39m\u001b[38;5;124m1. Edit task \u001b[39m\u001b[38;5;130;01m\\n\u001b[39;00m\u001b[38;5;124m2. Delete task \u001b[39m\u001b[38;5;130;01m\\n\u001b[39;00m\u001b[38;5;124m3. Back to menu\u001b[39m\u001b[38;5;124m\"\u001b[39m)\n",
      "\u001b[1;31mNameError\u001b[0m: name 'dataframe' is not defined"
     ]
    }
   ],
   "source": [
    "def menu():\n",
    "    while True:\n",
    "        print(\"MENU\\n1. Add new task \\n2. View tasks \\n3. Edit/Delete task \\n4. Mark a task done \\n5. Exit \\n\")\n",
    "        choice = int(input(\"Select the operation you wish to perform (1 or 2 or 3 or 4 or 5): \"))\n",
    "\n",
    "        match choice:\n",
    "            case 1:\n",
    "                #addTask()\n",
    "                addTask()\n",
    "\n",
    "            case 2:\n",
    "                return dataframe\n",
    "            \n",
    "            case 3:\n",
    "                print(\"1. Edit task \\n2. Delete task \\n3. Back to menu\")\n",
    "                editDeleteChoice = int(input(\"Select the operation you wish to perform (1 or 2 or 3): \"))\n",
    "                match editDeleteChoice:\n",
    "                    case 1:\n",
    "                        editTask()\n",
    "                        return menu()\n",
    "                        # edit = int(input(\"Enter the SNo. of the task you wish to edit: \"))\n",
    "                        #logic\n",
    "                    case 2:\n",
    "                        deleteTask()\n",
    "                        return menu()\n",
    "                        # delete = int(input(\"Enter the SNo. of the task you wish to delete: \"))\n",
    "                        #logc\n",
    "                    case 3:\n",
    "                        menu()\n",
    "\n",
    "            case 4:\n",
    "                markAsDone()\n",
    "                return menu()\n",
    "                # done = int(input(\"Enter the S No. of the task you wish to mark as done: \"))\n",
    "                #logic\n",
    "\n",
    "            case 5:\n",
    "                break\n",
    "\n",
    "            case _:\n",
    "                print(\"Invalid operation selected, please select an operation between (1 or 2 or 3 or 4 or 5).\")\n",
    "\n",
    "menu()"
   ]
  },
  {
   "cell_type": "code",
   "execution_count": 45,
   "metadata": {},
   "outputs": [
    {
     "data": {
      "text/plain": [
       "1"
      ]
     },
     "execution_count": 45,
     "metadata": {},
     "output_type": "execute_result"
    }
   ],
   "source": [
    "len(task)"
   ]
  },
  {
   "cell_type": "code",
   "execution_count": 51,
   "metadata": {},
   "outputs": [
    {
     "name": "stdout",
     "output_type": "stream",
     "text": [
      "okay 1\n"
     ]
    }
   ],
   "source": [
    "for j in status:\n",
    "    if i == 1:\n",
    "        print(\"okay 1\")\n",
    "    else:\n",
    "        print(\"okay 2\")"
   ]
  },
  {
   "cell_type": "code",
   "execution_count": 122,
   "metadata": {},
   "outputs": [],
   "source": [
    "xyz = \"2\"\n",
    "df.loc[(df.No == xyz), ['Status']] = \"False\" "
   ]
  },
  {
   "cell_type": "code",
   "execution_count": 123,
   "metadata": {},
   "outputs": [
    {
     "data": {
      "text/html": [
       "<div>\n",
       "<style scoped>\n",
       "    .dataframe tbody tr th:only-of-type {\n",
       "        vertical-align: middle;\n",
       "    }\n",
       "\n",
       "    .dataframe tbody tr th {\n",
       "        vertical-align: top;\n",
       "    }\n",
       "\n",
       "    .dataframe thead th {\n",
       "        text-align: right;\n",
       "    }\n",
       "</style>\n",
       "<table border=\"1\" class=\"dataframe\">\n",
       "  <thead>\n",
       "    <tr style=\"text-align: right;\">\n",
       "      <th></th>\n",
       "      <th>No</th>\n",
       "      <th>Task</th>\n",
       "      <th>Status</th>\n",
       "      <th>Created At</th>\n",
       "      <th>Completed At</th>\n",
       "    </tr>\n",
       "  </thead>\n",
       "  <tbody>\n",
       "    <tr>\n",
       "      <th>0</th>\n",
       "      <td>1</td>\n",
       "      <td>complete code</td>\n",
       "      <td>False</td>\n",
       "      <td>5</td>\n",
       "      <td>11</td>\n",
       "    </tr>\n",
       "    <tr>\n",
       "      <th>1</th>\n",
       "      <td>2</td>\n",
       "      <td>gym</td>\n",
       "      <td>False</td>\n",
       "      <td>4</td>\n",
       "      <td>22</td>\n",
       "    </tr>\n",
       "    <tr>\n",
       "      <th>2</th>\n",
       "      <td>3</td>\n",
       "      <td>call</td>\n",
       "      <td>done</td>\n",
       "      <td>3</td>\n",
       "      <td>33</td>\n",
       "    </tr>\n",
       "    <tr>\n",
       "      <th>3</th>\n",
       "      <td>4</td>\n",
       "      <td>a</td>\n",
       "      <td>done</td>\n",
       "      <td>2</td>\n",
       "      <td>44</td>\n",
       "    </tr>\n",
       "    <tr>\n",
       "      <th>4</th>\n",
       "      <td>5</td>\n",
       "      <td>d</td>\n",
       "      <td>done</td>\n",
       "      <td>1</td>\n",
       "      <td>55</td>\n",
       "    </tr>\n",
       "  </tbody>\n",
       "</table>\n",
       "</div>"
      ],
      "text/plain": [
       "  No           Task Status  Created At  Completed At\n",
       "0  1  complete code  False           5            11\n",
       "1  2            gym  False           4            22\n",
       "2  3           call   done           3            33\n",
       "3  4              a   done           2            44\n",
       "4  5              d   done           1            55"
      ]
     },
     "execution_count": 123,
     "metadata": {},
     "output_type": "execute_result"
    }
   ],
   "source": [
    "df"
   ]
  },
  {
   "cell_type": "code",
   "execution_count": 121,
   "metadata": {},
   "outputs": [
    {
     "data": {
      "text/html": [
       "<style type=\"text/css\">\n",
       "</style>\n",
       "<table id=\"T_d8c78_\">\n",
       "  <thead>\n",
       "    <tr>\n",
       "      <th class=\"col_heading level0 col0\" >No</th>\n",
       "      <th class=\"col_heading level0 col1\" >Task</th>\n",
       "      <th class=\"col_heading level0 col2\" >Status</th>\n",
       "      <th class=\"col_heading level0 col3\" >Created At</th>\n",
       "      <th class=\"col_heading level0 col4\" >Completed At</th>\n",
       "    </tr>\n",
       "  </thead>\n",
       "  <tbody>\n",
       "    <tr>\n",
       "      <td id=\"T_d8c78_row0_col0\" class=\"data row0 col0\" >1</td>\n",
       "      <td id=\"T_d8c78_row0_col1\" class=\"data row0 col1\" >complete code</td>\n",
       "      <td id=\"T_d8c78_row0_col2\" class=\"data row0 col2\" >False</td>\n",
       "      <td id=\"T_d8c78_row0_col3\" class=\"data row0 col3\" >5</td>\n",
       "      <td id=\"T_d8c78_row0_col4\" class=\"data row0 col4\" >11</td>\n",
       "    </tr>\n",
       "    <tr>\n",
       "      <td id=\"T_d8c78_row1_col0\" class=\"data row1 col0\" >2</td>\n",
       "      <td id=\"T_d8c78_row1_col1\" class=\"data row1 col1\" >gym</td>\n",
       "      <td id=\"T_d8c78_row1_col2\" class=\"data row1 col2\" >pending</td>\n",
       "      <td id=\"T_d8c78_row1_col3\" class=\"data row1 col3\" >4</td>\n",
       "      <td id=\"T_d8c78_row1_col4\" class=\"data row1 col4\" >22</td>\n",
       "    </tr>\n",
       "    <tr>\n",
       "      <td id=\"T_d8c78_row2_col0\" class=\"data row2 col0\" >3</td>\n",
       "      <td id=\"T_d8c78_row2_col1\" class=\"data row2 col1\" >call</td>\n",
       "      <td id=\"T_d8c78_row2_col2\" class=\"data row2 col2\" >done</td>\n",
       "      <td id=\"T_d8c78_row2_col3\" class=\"data row2 col3\" >3</td>\n",
       "      <td id=\"T_d8c78_row2_col4\" class=\"data row2 col4\" >33</td>\n",
       "    </tr>\n",
       "    <tr>\n",
       "      <td id=\"T_d8c78_row3_col0\" class=\"data row3 col0\" >4</td>\n",
       "      <td id=\"T_d8c78_row3_col1\" class=\"data row3 col1\" >a</td>\n",
       "      <td id=\"T_d8c78_row3_col2\" class=\"data row3 col2\" >done</td>\n",
       "      <td id=\"T_d8c78_row3_col3\" class=\"data row3 col3\" >2</td>\n",
       "      <td id=\"T_d8c78_row3_col4\" class=\"data row3 col4\" >44</td>\n",
       "    </tr>\n",
       "    <tr>\n",
       "      <td id=\"T_d8c78_row4_col0\" class=\"data row4 col0\" >5</td>\n",
       "      <td id=\"T_d8c78_row4_col1\" class=\"data row4 col1\" >d</td>\n",
       "      <td id=\"T_d8c78_row4_col2\" class=\"data row4 col2\" >done</td>\n",
       "      <td id=\"T_d8c78_row4_col3\" class=\"data row4 col3\" >1</td>\n",
       "      <td id=\"T_d8c78_row4_col4\" class=\"data row4 col4\" >55</td>\n",
       "    </tr>\n",
       "  </tbody>\n",
       "</table>\n"
      ],
      "text/plain": [
       "<pandas.io.formats.style.Styler at 0x1e1725bcbb0>"
      ]
     },
     "execution_count": 121,
     "metadata": {},
     "output_type": "execute_result"
    }
   ],
   "source": [
    "dataframe"
   ]
  },
  {
   "cell_type": "code",
   "execution_count": 118,
   "metadata": {},
   "outputs": [
    {
     "ename": "AttributeError",
     "evalue": "'Styler' object has no attribute 'loc'",
     "output_type": "error",
     "traceback": [
      "\u001b[1;31m---------------------------------------------------------------------------\u001b[0m",
      "\u001b[1;31mAttributeError\u001b[0m                            Traceback (most recent call last)",
      "\u001b[1;32m~\\AppData\\Local\\Temp/ipykernel_13388/41419220.py\u001b[0m in \u001b[0;36m<module>\u001b[1;34m\u001b[0m\n\u001b[1;32m----> 1\u001b[1;33m \u001b[0mdataframe\u001b[0m\u001b[1;33m.\u001b[0m\u001b[0mloc\u001b[0m\u001b[1;33m[\u001b[0m\u001b[1;33m(\u001b[0m\u001b[0mdataframe\u001b[0m\u001b[1;33m.\u001b[0m\u001b[0mNo\u001b[0m \u001b[1;33m==\u001b[0m \u001b[1;34m\"1\"\u001b[0m\u001b[1;33m)\u001b[0m\u001b[1;33m]\u001b[0m\u001b[1;33m\u001b[0m\u001b[1;33m\u001b[0m\u001b[0m\n\u001b[0m",
      "\u001b[1;31mAttributeError\u001b[0m: 'Styler' object has no attribute 'loc'"
     ]
    }
   ],
   "source": []
  },
  {
   "cell_type": "code",
   "execution_count": null,
   "metadata": {},
   "outputs": [],
   "source": []
  }
 ],
 "metadata": {
  "kernelspec": {
   "display_name": "base",
   "language": "python",
   "name": "python3"
  },
  "language_info": {
   "codemirror_mode": {
    "name": "ipython",
    "version": 3
   },
   "file_extension": ".py",
   "mimetype": "text/x-python",
   "name": "python",
   "nbconvert_exporter": "python",
   "pygments_lexer": "ipython3",
   "version": "3.12.3"
  }
 },
 "nbformat": 4,
 "nbformat_minor": 2
}
