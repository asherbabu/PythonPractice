{
 "cells": [
  {
   "cell_type": "markdown",
   "metadata": {},
   "source": [
    "SETS IN PYTHON"
   ]
  },
  {
   "cell_type": "code",
   "execution_count": 6,
   "metadata": {},
   "outputs": [
    {
     "name": "stdout",
     "output_type": "stream",
     "text": [
      "{1, 2, 3, 4, 5, 6, 7, 8, 9, 10}\n",
      "Maximum value in set A is 10\n",
      "Minimum value in set A is 1\n"
     ]
    }
   ],
   "source": [
    "#Write a Python program to find maximum and the minimum value in a set.\n",
    "a={1,2,3,4,5,6,7,8,9,10}\n",
    "print(a)\n",
    "maxvalue=max(a)\n",
    "minvalue=min(a)\n",
    "print(\"Maximum value in set A is\",maxvalue)\n",
    "print(\"Minimum value in set A is\",minvalue)"
   ]
  },
  {
   "cell_type": "code",
   "execution_count": 2,
   "metadata": {},
   "outputs": [
    {
     "name": "stdout",
     "output_type": "stream",
     "text": [
      "22 is not in set A\n"
     ]
    }
   ],
   "source": [
    "#Write a Python program to check if a given value is present in a set or not.\n",
    "a={1,2,3,4,5,6,7,8,9,10}\n",
    "i=int(input(\"Enter a value: \"))\n",
    "if i in a:\n",
    "    print(i,\"is in set A\")\n",
    "else:\n",
    "    print(i,\"is not in set A\")"
   ]
  },
  {
   "cell_type": "code",
   "execution_count": 3,
   "metadata": {},
   "outputs": [
    {
     "name": "stdout",
     "output_type": "stream",
     "text": [
      "set 1: {1, 2, 3}\n",
      "set 2: {4, 5, 6}\n",
      "set 3: {8, 9, 7}\n",
      "Set 1 after updating: {1, 2, 3, 4, 5, 6}\n",
      "Set 1 after union with Set 3: {1, 2, 3, 4, 5, 6, 7, 8, 9}\n"
     ]
    }
   ],
   "source": [
    "#Write a Python program to implement the concept of union and update\n",
    "set1={1,2,3}\n",
    "set2={4,5,6}\n",
    "set3={7,8,9}\n",
    "\n",
    "print(\"set 1:\",set1)\n",
    "print(\"set 2:\",set2)\n",
    "print(\"set 3:\",set3)\n",
    "\n",
    "set1.update(set2)\n",
    "print(\"Set 1 after updating:\",set1)\n",
    "\n",
    "print(\"Set 1 after union with Set 3:\",set1.union(set3))"
   ]
  },
  {
   "cell_type": "code",
   "execution_count": 4,
   "metadata": {},
   "outputs": [
    {
     "name": "stdout",
     "output_type": "stream",
     "text": [
      "original set: {1, 2, 3, 4, 5}\n",
      "Set after addition of new element {1, 2, 3, 4, 5, 6}\n"
     ]
    }
   ],
   "source": [
    "#Write a python program to add an element to a set\n",
    "set1={1,2,3,4,5}\n",
    "i=int(input(\"Enter element to add: \"))\n",
    "print(\"original set:\", set1)\n",
    "set1.add(i)\n",
    "print(\"Set after addition of new element\",set1)"
   ]
  },
  {
   "cell_type": "code",
   "execution_count": 5,
   "metadata": {},
   "outputs": [
    {
     "name": "stdout",
     "output_type": "stream",
     "text": [
      "original set: {1, 2, 3, 4, 5}\n",
      "{1, 2, 3, 4}\n"
     ]
    }
   ],
   "source": [
    "#Write a python program to remove an element from a set\n",
    "set1={1,2,3,4,5}\n",
    "print(\"original set:\", set1)\n",
    "i=int(input(\"Enter element to remove: \"))\n",
    "if i not in set1:\n",
    "    print(\"Invalid\")\n",
    "else:\n",
    "    set1.remove(i)\n",
    "    print(set1)"
   ]
  },
  {
   "cell_type": "code",
   "execution_count": null,
   "metadata": {},
   "outputs": [],
   "source": []
  }
 ],
 "metadata": {
  "kernelspec": {
   "display_name": "Python 3",
   "language": "python",
   "name": "python3"
  },
  "language_info": {
   "codemirror_mode": {
    "name": "ipython",
    "version": 3
   },
   "file_extension": ".py",
   "mimetype": "text/x-python",
   "name": "python",
   "nbconvert_exporter": "python",
   "pygments_lexer": "ipython3",
   "version": "3.9.7"
  }
 },
 "nbformat": 4,
 "nbformat_minor": 2
}
