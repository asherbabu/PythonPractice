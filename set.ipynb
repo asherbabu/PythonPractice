{
 "cells": [
  {
   "cell_type": "code",
   "execution_count": 1,
   "metadata": {},
   "outputs": [
    {
     "name": "stdout",
     "output_type": "stream",
     "text": [
      "{1, 2, 3, 4, 5, 6, 7, 8, 9, 10}\n",
      "Maximum value in set A is 10\n",
      "Minimum value in set A is 1\n"
     ]
    }
   ],
   "source": [
    "#Write a Python program to find maximum and the minimum value in a set.\n",
    "a={1,2,3,4,5,6,7,8,9,10}\n",
    "print(a)\n",
    "maxvalue=max(a)\n",
    "minvalue=min(a)\n",
    "print(\"Maximum value in set A is\",maxvalue)\n",
    "print(\"Minimum value in set A is\",minvalue)"
   ]
  },
  {
   "cell_type": "code",
   "execution_count": 2,
   "metadata": {},
   "outputs": [
    {
     "name": "stdout",
     "output_type": "stream",
     "text": [
      "22 is not in set A\n"
     ]
    }
   ],
   "source": [
    "#Write a Python program to check if a given value is present in a set or not.\n",
    "a={1,2,3,4,5,6,7,8,9,10}\n",
    "i=int(input(\"Enter a value: \"))\n",
    "if i in a:\n",
    "    print(i,\"is in set A\")\n",
    "else:\n",
    "    print(i,\"is not in set A\")"
   ]
  },
  {
   "cell_type": "code",
   "execution_count": null,
   "metadata": {},
   "outputs": [],
   "source": []
  }
 ],
 "metadata": {
  "kernelspec": {
   "display_name": "Python 3",
   "language": "python",
   "name": "python3"
  },
  "language_info": {
   "codemirror_mode": {
    "name": "ipython",
    "version": 3
   },
   "file_extension": ".py",
   "mimetype": "text/x-python",
   "name": "python",
   "nbconvert_exporter": "python",
   "pygments_lexer": "ipython3",
   "version": "3.9.7"
  }
 },
 "nbformat": 4,
 "nbformat_minor": 2
}
